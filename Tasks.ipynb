{
  "cells": [
    {
      "cell_type": "markdown",
      "metadata": {
        "id": "v8rqnoOM0NqI"
      },
      "source": [
        "# TASK 1\n",
        "dataset link : https://raw.githubusercontent.com/TirendazAcademy/PANDAS-TUTORIAL/main/DataSets/vgsalesGlobale.csv\n",
        "#Exercise\n",
        "Use the dataset of Game, we have explored earlier and perform following operations.\n",
        "\n",
        "* Calculate the total global sales for all games in the dataset.\n",
        "* Find the game with the highest global sales.\n",
        "* Determine the average sales for each region (NA_Sales, EU_Sales, JP_Sales, Other_Sales).\n",
        "* Find the top 5 most popular game genres based on global sales.\n",
        "* Calculate the total sales for each genre in each region and find the most popular genre in North America (NA_Sales).\n",
        "* Display last 10 rows.\n",
        "* Determine the top 3 gaming platforms with the highest global sales.\n",
        "* Calculate the market share (percentage of global sales) for each genre.\n",
        "* Calculate the correlation coefficient between NA_Sales and EU_Sales. (.corr function)"
      ]
    },
    {
      "cell_type": "code",
      "execution_count": 1,
      "metadata": {},
      "outputs": [],
      "source": [
        "import pandas as pd\n",
        "\n",
        "df = pd.read_csv('vgsalesGlobale.csv')"
      ]
    },
    {
      "cell_type": "code",
      "execution_count": 2,
      "metadata": {},
      "outputs": [
        {
          "name": "stdout",
          "output_type": "stream",
          "text": [
            "Total Global Sales: 8920.44\n"
          ]
        }
      ],
      "source": [
        "total_global_sales = df['Global_Sales'].sum()\n",
        "print(f\"Total Global Sales: {total_global_sales}\")"
      ]
    },
    {
      "cell_type": "code",
      "execution_count": 3,
      "metadata": {},
      "outputs": [
        {
          "name": "stdout",
          "output_type": "stream",
          "text": [
            "Game with Highest Global Sales: Wii Sports\n"
          ]
        }
      ],
      "source": [
        "highest_global_sales_game = df.loc[df['Global_Sales'].idxmax()]\n",
        "print(f\"Game with Highest Global Sales: {highest_global_sales_game['Name']}\")"
      ]
    },
    {
      "cell_type": "code",
      "execution_count": 4,
      "metadata": {},
      "outputs": [
        {
          "name": "stdout",
          "output_type": "stream",
          "text": [
            "Average NA Sales: 0.26466742981082064\n",
            "Average EU Sales: 0.14665200626581515\n",
            "Average JP Sales: 0.077781660441017\n",
            "Average Other Sales: 0.0480630196409206\n"
          ]
        }
      ],
      "source": [
        "average_sales_na = df['NA_Sales'].mean()\n",
        "average_sales_eu = df['EU_Sales'].mean()\n",
        "average_sales_jp = df['JP_Sales'].mean()\n",
        "average_sales_other = df['Other_Sales'].mean()\n",
        "print(f\"Average NA Sales: {average_sales_na}\")\n",
        "print(f\"Average EU Sales: {average_sales_eu}\")\n",
        "print(f\"Average JP Sales: {average_sales_jp}\")\n",
        "print(f\"Average Other Sales: {average_sales_other}\")"
      ]
    },
    {
      "cell_type": "code",
      "execution_count": 5,
      "metadata": {},
      "outputs": [
        {
          "name": "stdout",
          "output_type": "stream",
          "text": [
            "Top 5 Most Popular Game Genres Based on Global Sales:\n",
            "Genre\n",
            "Action          1751.18\n",
            "Sports          1330.93\n",
            "Shooter         1037.37\n",
            "Role-Playing     927.37\n",
            "Platform         831.37\n",
            "Name: Global_Sales, dtype: float64\n"
          ]
        }
      ],
      "source": [
        "top_5_genres = df.groupby('Genre')['Global_Sales'].sum().sort_values(ascending=False).head(5)\n",
        "print(\"Top 5 Most Popular Game Genres Based on Global Sales:\")\n",
        "print(top_5_genres)"
      ]
    },
    {
      "cell_type": "code",
      "execution_count": 6,
      "metadata": {},
      "outputs": [
        {
          "name": "stdout",
          "output_type": "stream",
          "text": [
            "Most Popular Genre in North America: Action\n"
          ]
        }
      ],
      "source": [
        "total_sales_by_genre_region = df.groupby('Genre')[['NA_Sales', 'EU_Sales', 'JP_Sales', 'Other_Sales']].sum()\n",
        "most_popular_genre_na = total_sales_by_genre_region['NA_Sales'].idxmax()\n",
        "print(f\"Most Popular Genre in North America: {most_popular_genre_na}\")"
      ]
    },
    {
      "cell_type": "code",
      "execution_count": 7,
      "metadata": {},
      "outputs": [
        {
          "name": "stdout",
          "output_type": "stream",
          "text": [
            "Last 10 Rows of the Dataset:\n",
            "        Rank                                               Name Platform  \\\n",
            "16588  16591                                   Mega Brain Boost       DS   \n",
            "16589  16592  Chou Ezaru wa Akai Hana: Koi wa Tsuki ni Shiru...      PSV   \n",
            "16590  16593  Eiyuu Densetsu: Sora no Kiseki Material Collec...      PSP   \n",
            "16591  16594                                Myst IV: Revelation       PC   \n",
            "16592  16595                                           Plushees       DS   \n",
            "16593  16596                 Woody Woodpecker in Crazy Castle 5      GBA   \n",
            "16594  16597                      Men in Black II: Alien Escape       GC   \n",
            "16595  16598   SCORE International Baja 1000: The Official Game      PS2   \n",
            "16596  16599                                         Know How 2       DS   \n",
            "16597  16600                                   Spirits & Spells      GBA   \n",
            "\n",
            "         Year         Genre              Publisher  NA_Sales  EU_Sales  \\\n",
            "16588  2008.0        Puzzle  Majesco Entertainment      0.01      0.00   \n",
            "16589  2016.0        Action        dramatic create      0.00      0.00   \n",
            "16590  2007.0  Role-Playing     Falcom Corporation      0.00      0.00   \n",
            "16591  2004.0     Adventure                Ubisoft      0.01      0.00   \n",
            "16592  2008.0    Simulation              Destineer      0.01      0.00   \n",
            "16593  2002.0      Platform                  Kemco      0.01      0.00   \n",
            "16594  2003.0       Shooter             Infogrames      0.01      0.00   \n",
            "16595  2008.0        Racing             Activision      0.00      0.00   \n",
            "16596  2010.0        Puzzle               7G//AMES      0.00      0.01   \n",
            "16597  2003.0      Platform                Wanadoo      0.01      0.00   \n",
            "\n",
            "       JP_Sales  Other_Sales  Global_Sales  \n",
            "16588      0.00          0.0          0.01  \n",
            "16589      0.01          0.0          0.01  \n",
            "16590      0.01          0.0          0.01  \n",
            "16591      0.00          0.0          0.01  \n",
            "16592      0.00          0.0          0.01  \n",
            "16593      0.00          0.0          0.01  \n",
            "16594      0.00          0.0          0.01  \n",
            "16595      0.00          0.0          0.01  \n",
            "16596      0.00          0.0          0.01  \n",
            "16597      0.00          0.0          0.01  \n"
          ]
        }
      ],
      "source": [
        "last_10_rows = df.tail(10)\n",
        "print(\"Last 10 Rows of the Dataset:\")\n",
        "print(last_10_rows)"
      ]
    },
    {
      "cell_type": "code",
      "execution_count": 8,
      "metadata": {},
      "outputs": [
        {
          "name": "stdout",
          "output_type": "stream",
          "text": [
            "Top 3 Gaming Platforms with Highest Global Sales:\n",
            "Platform\n",
            "PS2     1255.64\n",
            "X360     979.96\n",
            "PS3      957.84\n",
            "Name: Global_Sales, dtype: float64\n"
          ]
        }
      ],
      "source": [
        "top_3_platforms = df.groupby('Platform')['Global_Sales'].sum().sort_values(ascending=False).head(3)\n",
        "print(\"Top 3 Gaming Platforms with Highest Global Sales:\")\n",
        "print(top_3_platforms)"
      ]
    },
    {
      "cell_type": "code",
      "execution_count": 9,
      "metadata": {},
      "outputs": [
        {
          "name": "stdout",
          "output_type": "stream",
          "text": [
            "Market Share for Each Genre:\n",
            "Genre\n",
            "Action          19.631094\n",
            "Adventure        2.679688\n",
            "Fighting         5.032375\n",
            "Misc             9.079821\n",
            "Platform         9.319832\n",
            "Puzzle           2.745941\n",
            "Racing           8.206322\n",
            "Role-Playing    10.396012\n",
            "Shooter         11.629135\n",
            "Simulation       4.396644\n",
            "Sports          14.920004\n",
            "Strategy         1.963132\n",
            "Name: Global_Sales, dtype: float64\n"
          ]
        }
      ],
      "source": [
        "total_global_sales_by_genre = df.groupby('Genre')['Global_Sales'].sum()\n",
        "market_share_by_genre = (total_global_sales_by_genre / total_global_sales) * 100\n",
        "print(\"Market Share for Each Genre:\")\n",
        "print(market_share_by_genre)"
      ]
    },
    {
      "cell_type": "code",
      "execution_count": 10,
      "metadata": {},
      "outputs": [
        {
          "name": "stdout",
          "output_type": "stream",
          "text": [
            "Correlation Coefficient between NA_Sales and EU_Sales: 0.7677267483702624\n"
          ]
        }
      ],
      "source": [
        "correlation_na_eu = df['NA_Sales'].corr(df['EU_Sales'])\n",
        "print(f\"Correlation Coefficient between NA_Sales and EU_Sales: {correlation_na_eu}\")"
      ]
    },
    {
      "cell_type": "markdown",
      "metadata": {
        "id": "TAcoA0P60GrS"
      },
      "source": [
        "## Task 2 English-Spanish Dictionary\n",
        "You are creating a basic English-Spanish dictionary that allows users to look up English words and find their Spanish translations.\n",
        "\n",
        "\n",
        "### Tasks\n",
        "* Create a dictionary where English words are keys and their Spanish translations are values.\n",
        "* Ask the user to input an English word.\n",
        "* Check if the word exists in the dictionary.\n",
        "* If the word exists, print its Spanish translation.\n",
        "* If the word does not exist, inform the user that the translation is not available.\n",
        "* Implement a loop that allows the user to keep looking up words until they choose to exit.\n"
      ]
    },
    {
      "cell_type": "code",
      "execution_count": 12,
      "metadata": {},
      "outputs": [
        {
          "name": "stdout",
          "output_type": "stream",
          "text": [
            "The Spanish translation of 'hello' is 'hola'.\n",
            "Exiting the dictionary. Goodbye!\n"
          ]
        }
      ],
      "source": [
        "english_spanish_dict = {\n",
        "    'hello': 'hola',\n",
        "    'goodbye': 'adiós',\n",
        "    'please': 'por favor',\n",
        "    'thank you': 'gracias',\n",
        "    'yes': 'sí',\n",
        "    'no': 'no',\n",
        "    'cat': 'gato',\n",
        "    'dog': 'perro',\n",
        "    'house': 'casa',\n",
        "    'car': 'coche'\n",
        "}\n",
        "def lookup_word():\n",
        "    while True:\n",
        "        english_word = input(\"Enter an English word (or type 'exit' to quit): \").strip().lower()\n",
        "        \n",
        "        if english_word == 'exit':\n",
        "            print(\"Exiting the dictionary\")\n",
        "            break\n",
        "        \n",
        "        if english_word in english_spanish_dict:\n",
        "            print(f\"The Spanish translation of '{english_word}' is '{english_spanish_dict[english_word]}'.\")\n",
        "        else:\n",
        "            print(f\"the translation for '{english_word}' is not available.\")\n",
        "\n",
        "lookup_word()"
      ]
    },
    {
      "cell_type": "markdown",
      "metadata": {
        "id": "l7D9aut90G_C"
      },
      "source": [
        "\n",
        "## Task 3 Email Classification\n",
        "Develope a tool which will classify an email.\n",
        "\n",
        "### Tasks:\n",
        "* Create a function classify_emails that takes a list of emails as an argument.\n",
        "* Inside the function, categorize emails into \"Important,\" \"Promotions,\" and \"Spam\" based on keywords and content analysis.\n",
        "* Loop through the emails and identify keywords to determine their category.\n",
        "* If an email contains keywords indicating importance, assign it as \"Important.\"\n",
        "* If an email contains keywords related to promotions or deals, assign it as \"Promotions.\"\n",
        "* If an email is suspected to be spam based on certain keywords or patterns, assign it as \"Spam.\"\n",
        "* Return three lists of emails for each category.\n",
        "* Print the lists."
      ]
    },
    {
      "cell_type": "code",
      "execution_count": 4,
      "metadata": {},
      "outputs": [],
      "source": [
        "important_emails = []\n",
        "promotions_emails = []\n",
        "spam_emails = []\n",
        "\n",
        "def classify_emails(emails):\n",
        "    important_keywords = [\"meeting\", \"project\", \"urgent\", \"important\", \"deadline\"]\n",
        "    promotions_keywords = [\"sale\", \"discount\", \"offer\", \"deal\", \"promotion\"]\n",
        "    spam_keywords = [\"win\", \"prize\", \"free\", \"click\", \"subscribe\"]\n",
        "\n",
        "    for email in emails:\n",
        "        email_lower = email.lower()\n",
        "        if any(keyword in email_lower for keyword in important_keywords):\n",
        "            important_emails.append(email)\n",
        "            \n",
        "        elif any(keyword in email_lower for keyword in promotions_keywords):\n",
        "            promotions_emails.append(email)\n",
        "            \n",
        "        elif any(keyword in email_lower for keyword in spam_keywords):\n",
        "            spam_emails.append(email)\n",
        "            \n",
        "        else:\n",
        "            spam_emails.append(email)\n",
        "\n",
        "    return important_emails, promotions_emails, spam_emails\n",
        "\n",
        "emails = [\n",
        "    \"Meeting tomorrow at 10am\",\n",
        "    \"Huge discount on your favorite products\",\n",
        "    \"You have won a prize! Click here to claim\",\n",
        "    \"Project deadline is next week\",\n",
        "    \"Exclusive offer just for you\",\n",
        "    \"Free subscription for a limited time\"\n",
        "]\n",
        "\n",
        "important, promotions, spam = classify_emails(emails)"
      ]
    },
    {
      "cell_type": "code",
      "execution_count": 5,
      "metadata": {},
      "outputs": [
        {
          "name": "stdout",
          "output_type": "stream",
          "text": [
            "Important Emails: ['Meeting tomorrow at 10am', 'Project deadline is next week']\n",
            "Promotions Emails: ['Huge discount on your favorite products', 'Exclusive offer just for you']\n",
            "Spam Emails: ['You have won a prize! Click here to claim', 'Free subscription for a limited time']\n"
          ]
        }
      ],
      "source": [
        "print(\"Important Emails:\", important)\n",
        "print(\"Promotions Emails:\", promotions)\n",
        "print(\"Spam Emails:\", spam)"
      ]
    },
    {
      "cell_type": "markdown",
      "metadata": {
        "id": "0brD8K130gh8"
      },
      "source": [
        "## Task 4 Online Store Shopping Cart\n",
        "Write a Python program to simulate the online store's shopping cart system. The program should use a while loop to provide an interactive shopping experience.\n",
        "\n",
        "\n",
        "### Tasks:\n",
        "* Initialize an empty list called shopping_cart to store items.\n",
        "* Display a welcome message and available products.\n",
        "* Loop should be iterating over AI Response Simulator and Investment decision and keep asking for user input.\n",
        "* Prompt the user to enter the number corresponding to the product they want to add to the cart.\n",
        "* Check if the user entered 'q'. If so, break the loop.\n",
        "* Convert the choice to an integer and validate it within the valid range (1 to 3).\n",
        "* Based on the user's choice, add the selected product to the shopping_cart list.\n",
        "* Display a confirmation message indicating the added product.\n",
        "* Continue the loop to allow the user to add more products or proceed to checkout.\n",
        "* After the loop ends, display the contents of the shopping cart.\n",
        "* Display a goodbye message.\n",
        "* End the program."
      ]
    },
    {
      "cell_type": "code",
      "execution_count": 2,
      "metadata": {},
      "outputs": [
        {
          "name": "stdout",
          "output_type": "stream",
          "text": [
            "Welcome to the AI Response Simulator and Investment Decision Store!\n",
            "Available products:\n",
            "1. AI Response Simulator\n",
            "2. Investment Decision\n",
            "3. Exit\n",
            "AI Response Simulator has been added to your cart.\n",
            "Investment Decision has been added to your cart.\n",
            "Your shopping cart contains:\n",
            "- AI Response Simulator\n",
            "- Investment Decision\n",
            "Thank you for shopping with us! Goodbye!\n"
          ]
        }
      ],
      "source": [
        "shopping_cart = []\n",
        "\n",
        "print(\"Welcome to the AI Response Simulator and Investment Decision Store!\")\n",
        "print(\"Available products:\")\n",
        "print(\"1. AI Response Simulator\")\n",
        "print(\"2. Investment Decision\")\n",
        "print(\"3. Exit\")\n",
        "\n",
        "while True:\n",
        "    choice = input(\"Enter the number of the product you want to add to the cart (or 'q' to quit): \").strip().lower()\n",
        "    \n",
        "    if choice == 'q':\n",
        "        break\n",
        "    \n",
        "    try:\n",
        "        choice = int(choice)\n",
        "        if choice < 1 or choice > 3:\n",
        "            print(\"Invalid choice. Please enter a number between 1 and 3.\")\n",
        "            continue\n",
        "        \n",
        "    except ValueError:\n",
        "        print(\"Invalid input. Please enter a number between 1 and 3.\")\n",
        "        continue\n",
        "    \n",
        "    if choice == 1:\n",
        "        shopping_cart.append(\"AI Response Simulator\")\n",
        "        print(\"AI Response Simulator has been added to your cart.\")\n",
        "        \n",
        "    elif choice == 2:\n",
        "        shopping_cart.append(\"Investment Decision\")\n",
        "        print(\"Investment Decision has been added to your cart.\")\n",
        "        \n",
        "    elif choice == 3:\n",
        "        break\n",
        "\n",
        "print(\"Your shopping cart contains:\")\n",
        "for item in shopping_cart:\n",
        "    print(f\"-{item}\")\n",
        "\n",
        "print(\"Thank you for shopping, Goodbye\")"
      ]
    },
    {
      "cell_type": "markdown",
      "metadata": {
        "id": "2u1i-sXA0mYb"
      },
      "source": [
        "## Task 5\n",
        "* Create two NumPy arrays of the same shape and perform element-wise addition on them.\n",
        "* Calculate the element-wise product of two NumPy arrays."
      ]
    },
    {
      "cell_type": "code",
      "execution_count": 1,
      "metadata": {},
      "outputs": [
        {
          "name": "stdout",
          "output_type": "stream",
          "text": [
            "Element-wise addition: [ 7  9 11 13 15]\n",
            "Element-wise product: [ 6 14 24 36 50]\n"
          ]
        }
      ],
      "source": [
        "import numpy as np\n",
        "\n",
        "arr_sum = []\n",
        "arr_product = []\n",
        "\n",
        "arr1 = np.array([1, 2, 3, 4, 5])\n",
        "arr2 = np.array([6, 7, 8, 9, 10])\n",
        "\n",
        "for i in range(len(arr1)):\n",
        "    arr_sum.append(arr1[i] + arr2[i])\n",
        "    arr_product.append(arr1[i] * arr2[i])\n",
        "\n",
        "arr_sum = np.array(arr_sum)\n",
        "arr_product = np.array(arr_product)\n",
        "\n",
        "print(\"Element-wise addition:\", arr_sum)\n",
        "print(\"Element-wise product:\", arr_product)"
      ]
    },
    {
      "cell_type": "markdown",
      "metadata": {
        "id": "bhV4sIZU1Iui"
      },
      "source": [
        "## Task 6\n",
        "* Reshape a 1D NumPy array into a 2D array with dimensions (3, 4).\n",
        "\n",
        "* Concatenate two NumPy arrays horizontally and vertically."
      ]
    },
    {
      "cell_type": "code",
      "execution_count": 1,
      "metadata": {},
      "outputs": [
        {
          "name": "stdout",
          "output_type": "stream",
          "text": [
            "[[ 1  2  3  4]\n",
            " [ 5  6  7  8]\n",
            " [ 9 10 11 12]]\n"
          ]
        }
      ],
      "source": [
        "import numpy as np\n",
        "arr = np.array([1,2,3,4,5,6,7,8,9,10,11,12])\n",
        "reshaping = arr.reshape(3,4)\n",
        "print(reshaping)"
      ]
    },
    {
      "cell_type": "code",
      "execution_count": 2,
      "metadata": {},
      "outputs": [
        {
          "name": "stdout",
          "output_type": "stream",
          "text": [
            "Horizontally concatenated array: [[ 1  2  3  7  8  9]\n",
            " [ 4  5  6 10 11 12]]\n",
            "Vertically concatenated array: [[ 1  2  3]\n",
            " [ 4  5  6]\n",
            " [ 7  8  9]\n",
            " [10 11 12]]\n"
          ]
        }
      ],
      "source": [
        "arr1 = np.array([[1,2,3],[4,5,6]])\n",
        "arr2 = np.array([[7,8,9],[10,11,12]])\n",
        "\n",
        "horizontal_concat = np.concatenate((arr1, arr2), axis=1)\n",
        "print(\"Horizontally concatenated array:\", horizontal_concat)\n",
        "\n",
        "vertical_concat = np.concatenate((arr1, arr2), axis=0)\n",
        "print(\"Vertically concatenated array:\", vertical_concat)"
      ]
    },
    {
      "cell_type": "markdown",
      "metadata": {
        "id": "HJYa0CKL1bGi"
      },
      "source": [
        "## Task 7\n",
        "* Reverse A List In Python Using Slicing\n"
      ]
    },
    {
      "cell_type": "code",
      "execution_count": 13,
      "metadata": {},
      "outputs": [
        {
          "name": "stdout",
          "output_type": "stream",
          "text": [
            "[5, 4, 3, 2, 1]\n"
          ]
        }
      ],
      "source": [
        "original_list = [1, 2, 3, 4, 5]\n",
        "reversed_list = original_list[::-1]\n",
        "print(reversed_list)"
      ]
    },
    {
      "cell_type": "markdown",
      "metadata": {
        "id": "hkrCxw4XSRl0"
      },
      "source": [
        "# TASK 8\n",
        "You need to download the GitHub Desktop software, push your lab task to your GitHub account, and share the link on GCR as a submission."
      ]
    }
  ],
  "metadata": {
    "colab": {
      "provenance": []
    },
    "kernelspec": {
      "display_name": "Python 3",
      "name": "python3"
    },
    "language_info": {
      "codemirror_mode": {
        "name": "ipython",
        "version": 3
      },
      "file_extension": ".py",
      "mimetype": "text/x-python",
      "name": "python",
      "nbconvert_exporter": "python",
      "pygments_lexer": "ipython3",
      "version": "3.12.4"
    }
  },
  "nbformat": 4,
  "nbformat_minor": 0
}
